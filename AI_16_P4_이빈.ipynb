{
  "nbformat": 4,
  "nbformat_minor": 0,
  "metadata": {
    "colab": {
      "provenance": [],
      "authorship_tag": "ABX9TyPldOztlbmQmvPbTzXkHnoK",
      "include_colab_link": true
    },
    "kernelspec": {
      "name": "python3",
      "display_name": "Python 3"
    },
    "language_info": {
      "name": "python"
    },
    "accelerator": "GPU",
    "gpuClass": "standard"
  },
  "cells": [
    {
      "cell_type": "markdown",
      "metadata": {
        "id": "view-in-github",
        "colab_type": "text"
      },
      "source": [
        "<a href=\"https://colab.research.google.com/github/LeeVvin/AIB_Project4/blob/main/AI_16_P4_%EC%9D%B4%EB%B9%88.ipynb\" target=\"_parent\"><img src=\"https://colab.research.google.com/assets/colab-badge.svg\" alt=\"Open In Colab\"/></a>"
      ]
    },
    {
      "cell_type": "code",
      "execution_count": null,
      "metadata": {
        "colab": {
          "base_uri": "https://localhost:8080/"
        },
        "id": "Zb1MsYHJtb-U",
        "outputId": "d741f0d1-0938-4221-c28b-bf5790d0af38"
      },
      "outputs": [
        {
          "output_type": "stream",
          "name": "stdout",
          "text": [
            "Mounted at /content/drive\n"
          ]
        }
      ],
      "source": [
        "from google.colab import drive\n",
        "drive.mount('/content/drive')"
      ]
    },
    {
      "cell_type": "code",
      "source": [
        "!sudo apt-get install -y fonts-nanum\n",
        "!sudo fc-cache -fv\n",
        "!rm ~/.cache/matplotlib -rf"
      ],
      "metadata": {
        "id": "BtzVF6eAkOex",
        "colab": {
          "base_uri": "https://localhost:8080/"
        },
        "outputId": "42bebc8d-de34-46ca-917f-bf66203105bc"
      },
      "execution_count": null,
      "outputs": [
        {
          "output_type": "stream",
          "name": "stdout",
          "text": [
            "Reading package lists... Done\n",
            "Building dependency tree       \n",
            "Reading state information... Done\n",
            "The following package was automatically installed and is no longer required:\n",
            "  libnvidia-common-510\n",
            "Use 'sudo apt autoremove' to remove it.\n",
            "The following NEW packages will be installed:\n",
            "  fonts-nanum\n",
            "0 upgraded, 1 newly installed, 0 to remove and 27 not upgraded.\n",
            "Need to get 9,599 kB of archives.\n",
            "After this operation, 29.6 MB of additional disk space will be used.\n",
            "Get:1 http://archive.ubuntu.com/ubuntu focal/universe amd64 fonts-nanum all 20180306-3 [9,599 kB]\n",
            "Fetched 9,599 kB in 1s (9,742 kB/s)\n",
            "debconf: unable to initialize frontend: Dialog\n",
            "debconf: (No usable dialog-like program is installed, so the dialog based frontend cannot be used. at /usr/share/perl5/Debconf/FrontEnd/Dialog.pm line 76, <> line 1.)\n",
            "debconf: falling back to frontend: Readline\n",
            "debconf: unable to initialize frontend: Readline\n",
            "debconf: (This frontend requires a controlling tty.)\n",
            "debconf: falling back to frontend: Teletype\n",
            "dpkg-preconfigure: unable to re-open stdin: \n",
            "Selecting previously unselected package fonts-nanum.\n",
            "(Reading database ... 129496 files and directories currently installed.)\n",
            "Preparing to unpack .../fonts-nanum_20180306-3_all.deb ...\n",
            "Unpacking fonts-nanum (20180306-3) ...\n",
            "Setting up fonts-nanum (20180306-3) ...\n",
            "Processing triggers for fontconfig (2.13.1-2ubuntu3) ...\n",
            "/usr/share/fonts: caching, new cache contents: 0 fonts, 1 dirs\n",
            "/usr/share/fonts/truetype: caching, new cache contents: 0 fonts, 3 dirs\n",
            "/usr/share/fonts/truetype/humor-sans: caching, new cache contents: 1 fonts, 0 dirs\n",
            "/usr/share/fonts/truetype/liberation: caching, new cache contents: 16 fonts, 0 dirs\n",
            "/usr/share/fonts/truetype/nanum: caching, new cache contents: 10 fonts, 0 dirs\n",
            "/usr/local/share/fonts: caching, new cache contents: 0 fonts, 0 dirs\n",
            "/root/.local/share/fonts: skipping, no such directory\n",
            "/root/.fonts: skipping, no such directory\n",
            "/usr/share/fonts/truetype: skipping, looped directory detected\n",
            "/usr/share/fonts/truetype/humor-sans: skipping, looped directory detected\n",
            "/usr/share/fonts/truetype/liberation: skipping, looped directory detected\n",
            "/usr/share/fonts/truetype/nanum: skipping, looped directory detected\n",
            "/var/cache/fontconfig: cleaning cache directory\n",
            "/root/.cache/fontconfig: not cleaning non-existent cache directory\n",
            "/root/.fontconfig: not cleaning non-existent cache directory\n",
            "fc-cache: succeeded\n"
          ]
        }
      ]
    },
    {
      "cell_type": "code",
      "source": [
        "# Env\n",
        "import pandas as pd\n",
        "import numpy as np\n",
        "import seaborn as sns\n",
        "import matplotlib.pyplot as plt\n",
        "import os\n",
        "\n",
        "from IPython.core.display import display, HTML\n",
        "display(HTML(\"<style>.container { width:100% !important; }</style>\"))\n",
        "pd.set_option('display.max_columns', 1000)\n",
        "pd.set_option('display.max_rows', 1000)\n",
        "\n",
        "from tqdm import tqdm\n",
        "import time\n",
        "\n",
        "plt.rc('font', size=20)        # 기본 폰트 크기\n",
        "plt.rc('axes', labelsize=15)   # x,y축 label 폰트 크기\n",
        "plt.rc('xtick', labelsize=20)  # x축 눈금 폰트 크기 \n",
        "plt.rc('ytick', labelsize=20)  # y축 눈금 폰트 크기\n",
        "plt.rc('legend', fontsize=15)  # 범례 폰트 크기\n",
        "plt.rc('figure', titlesize=30) # figure title 폰트 크기\n",
        "\n",
        "import warnings\n",
        "warnings.filterwarnings(action='ignore')\n",
        "\n",
        "plt.rc('font', family='Malgun Gothic')\n",
        "plt.rcParams['axes.unicode_minus'] =False\n",
        "\n",
        "\n",
        "#url = \"C:/Users/82104/Desktop/치안안전 데이터분석 공모전/data\"\n",
        "url = \"/content/drive/MyDrive/치안안전 데이터분석 공모전/DATA\""
      ],
      "metadata": {
        "colab": {
          "base_uri": "https://localhost:8080/",
          "height": 17
        },
        "id": "H4t6SaSHq_mZ",
        "outputId": "19003cf9-6457-4838-dbae-cb81ea6cc55c"
      },
      "execution_count": null,
      "outputs": [
        {
          "output_type": "display_data",
          "data": {
            "text/plain": [
              "<IPython.core.display.HTML object>"
            ],
            "text/html": [
              "<style>.container { width:100% !important; }</style>"
            ]
          },
          "metadata": {}
        }
      ]
    },
    {
      "cell_type": "code",
      "source": [
        "def dataload(data1,data2,data3):\n",
        "    '''\n",
        "    데이터를 로드하고 기본적인 병합을 하는 함수입니다.\n",
        "    '''\n",
        "#    print(\"[dataload start]\")\n",
        "    kp_0 = pd.read_csv(url+'/'+ data1, encoding = 'cp949')\n",
        "    kp_1 = pd.read_csv(url+'/'+ data2, encoding = 'cp949')\n",
        "    npa = pd.read_csv(url+'/'+ data3, encoding = 'cp949')\n",
        "#    print('data load complete')\n",
        "    df = pd.concat([kp_0,kp_1], axis = 0)\n",
        "#    print(f\"MERGE complete : {df.shape, kp_0.shape, kp_1.shape}\")\n",
        "    print(\"데이터 로드 완료\")\n",
        "    return df,npa\n",
        "\n",
        "def column_change(data1,data2):\n",
        "    '''\n",
        "     불필요한 컬럼 제거 및 숫자코드 변경하는 함수입니다.\n",
        "    '''\n",
        "    #print(\"[column_change start]\")\n",
        "    data1 = data1.drop(columns = 'NPA_CL')\n",
        "    data1 = data1.rename(columns = {'RECV_DEPT_NM':'경찰청명','RECV_CPLT_DM':'접수완료시간','EVT_STAT_CD':'사건상태코드','EVT_CL_CD':'사건종별코드','RPTER_SEX':'성별','SME_EVT_YN':'동일사건여부'})\n",
        "    data2 = data2.rename(columns = {'NPA_CL':'경찰청구분','EVT_STAT_CD':'사건상태코드','EVT_CL_CD':'사건종별코드','RPTER_SEX':'성별','SME_EVT_YN':'동일사건여부'})\n",
        "    data1['성별'] = np.where(data1.성별 ==1,'남성',\n",
        "         np.where(data1.성별 ==2,'여성','미상'))\n",
        "    data2['성별'] = np.where(data2.성별 == '1','남성',\n",
        "                  np.where(data2.성별 == '2','여성','미상'))\n",
        "    print(\"컬럼 제거 및 성별 코드 전환 완료\")\n",
        "    return data1,data2\n",
        "\n",
        "def code_change(df):\n",
        "    '''\n",
        "    코드로 되어있는 컬럼의 값을 변경해주는 함수입니다.\n",
        "    '''\n",
        "    #print(\"[code_change start]\")\n",
        "    df['사건상태코드'] = np.where(df.사건상태코드 == 1,'접수중',np.where(df.사건상태코드 == 2, '접수', np.where(df.사건상태코드 ==3,'지령',np.where(df.사건상태코드 ==4,'도착',\n",
        "                         np.where(df.사건상태코드 ==5,'도착', np.where(df.사건상태코드 ==6,'네비종결', np.where(df.사건상태코드 ==7,'종결요청',np.where(df.사건상태코드 ==8,'지령취소',\n",
        "                         np.where(df.사건상태코드 ==9,'타청이첩','종결요청')))))))))\n",
        "    \n",
        "    df['사건종별코드'] = np.where(df.사건종별코드 ==1,'중요범죄',np.where(df.사건종별코드 ==2, '기타범죄',np.where(df.사건종별코드 ==3,'질서유지',np.where(df.사건종별코드 ==4,'교통',np.where(df.사건종별코드 ==5,'기타교통업무',\n",
        "                           np.where(df.사건종별코드 ==6,'타기관_기타',np.where(df.사건종별코드 ==101,'살인',np.where(df.사건종별코드 ==102,'강도',np.where(df.사건종별코드 ==103,'치기',\n",
        "                           np.where(df.사건종별코드 ==104,'절도',np.where(df.사건종별코드 ==105,'납치감금',np.where(df.사건종별코드 ==106,'성폭력',np.where(df.사건종별코드 ==107,'가정폭력',\n",
        "                           np.where(df.사건종별코드 ==108,'아동학대(가정내)',np.where(df.사건종별코드 ==109,'아동학대(기타)',np.where(df.사건종별코드 ==201,'폭력',np.where(df.사건종별코드 ==202,'사기',\n",
        "                           np.where(df.사건종별코드 ==203,'공갈',np.where(df.사건종별코드 ==204,'협박',np.where(df.사건종별코드 ==205,'도박',np.where(df.사건종별코드 ==206,'재물손괴',\n",
        "                           np.where(df.사건종별코드 ==207,'주거침입',np.where(df.사건종별코드 ==208,'풍속영업',np.where(df.사건종별코드 ==209,'수배불심자',np.where(df.사건종별코드 ==210,'기타형사범',\n",
        "                           np.where(df.사건종별코드 ==211,'데이트폭력',np.where(df.사건종별코드 ==212,'스토킹',np.where(df.사건종별코드 ==213,'학교폭력',np.where(df.사건종별코드 ==214,'마약',\n",
        "                           np.where(df.사건종별코드 ==215,'보이스피싱',np.where(df.사건종별코드 ==216,'동물학대',np.where(df.사건종별코드 ==301,'시비',np.where(df.사건종별코드 ==302,'행패소란',\n",
        "                           np.where(df.사건종별코드 ==303,'청소년비행',np.where(df.사건종별코드 ==304,'무전취식승차',np.where(df.사건종별코드 ==305,'주취자',np.where(df.사건종별코드 ==306,'보호조치',\n",
        "                           np.where(df.사건종별코드 ==307,'위험방지',np.where(df.사건종별코드 ==308,'기타경범',np.where(df.사건종별코드 ==401,'교통사고',np.where(df.사건종별코드 ==402,'교통불편',\n",
        "                           np.where(df.사건종별코드 ==403,'교통위반',np.where(df.사건종별코드 ==404,'사망.대형사고',np.where(df.사건종별코드 ==405,'인피도주',np.where(df.사건종별코드 ==406,'음주운전',\n",
        "                           np.where(df.사건종별코드 ==501,'상담문의',np.where(df.사건종별코드 ==502,'변사자',np.where(df.사건종별코드 ==503,'비상벨',np.where(df.사건종별코드 ==504,'경비업체요청',\n",
        "                           np.where(df.사건종별코드 ==505,'가출',np.where(df.사건종별코드 ==506,'분실습득',np.where(df.사건종별코드 ==507,'FTX',np.where(df.사건종별코드 ==508,'자살',\n",
        "                           np.where(df.사건종별코드 ==509,'실종(실종아동)',np.where(df.사건종별코드 ==601,'내용확인불가',np.where(df.사건종별코드 ==602,'화재',np.where(df.사건종별코드 ==603,'구조요청',\n",
        "                           np.where(df.사건종별코드 ==604,'소음',np.where(df.사건종별코드 ==605,'노점상',np.where(df.사건종별코드 ==606,'기타_타기관',np.where(df.사건종별코드 ==607,'서비스요청',\n",
        "                           np.where(df.사건종별코드 ==608,'청탁금지법',np.where(df.사건종별코드 ==609,'재해재난',np.where(df.사건종별코드 ==610,'위험동물','error'))))))))))))))))))))))))))))))))))))))))))))))))))))))))))))))))\n",
        "    print(\"사건상태코드 변환 완료\")\n",
        "    return df\n",
        "\n",
        "def npa_time_police(df):\n",
        "    '''\n",
        "    npa 데이터프레임의 datetime 컬럼을 만들어주는 함수입니다.\n",
        "    '''\n",
        "    #print(\"[npa_time_police start]\")\n",
        "    df = npa.astype({'RECV_CPLT_DT':'str'})\n",
        "    df['RECV_CPLT_TM'] = '00000' + df['RECV_CPLT_TM'].astype(str)\n",
        "    df['RECV_CPLT_TM'] = df['RECV_CPLT_TM'].str[-6:]\n",
        "    df['year'] = df['RECV_CPLT_DT'].str[0:4]\n",
        "    df['month'] = df['RECV_CPLT_DT'].str[4:6]\n",
        "    df['day'] = df['RECV_CPLT_DT'].str[6:8]\n",
        "    df['hour'] = df['RECV_CPLT_TM'].str[0:2]\n",
        "    df['minute'] = df['RECV_CPLT_TM'].str[2:4]\n",
        "    df['second'] = df['RECV_CPLT_TM'].str[4:6]\n",
        "    df['TIME'] = df['year'] + '-' + df['month'] + '-' + df['day']+' ' +df['hour']+':'+df['minute']+':'+df['second']\n",
        "    df['접수완료시간'] = pd.to_datetime(df['TIME'])\n",
        "    df = df.drop(columns = ['RECV_CPLT_DT','RECV_CPLT_TM','year','month','day','hour','minute','second','TIME'])\n",
        "    df['경찰청명'] = np.where(df.경찰청구분 == 13, '대전청',np.where(df.경찰청구분 == 19,'충남청','error'))\n",
        "    df = df.drop(columns = '경찰청구분')\n",
        "    print(\"날짜 컬럼 생성 완료\")\n",
        "    return df\n",
        "\n",
        "\n",
        "def df_datetime_change(df):\n",
        "    '''\n",
        "    제공 df의 접수완료시간형태가 달라 통일 및 dtype 변경하는 함수입니다.\n",
        "    '''\n",
        "    #print(\"[df_datetime_change start]\")\n",
        "    df_nerr = df[df['접수완료시간'].str.startswith('2020')]\n",
        "    df_nerr = df_nerr.astype({'접수완료시간':'str'})\n",
        "    df_nerr['접수완료시간'] = df_nerr['접수완료시간'].astype(str) + ':00'\n",
        "    df_err = df[df['접수완료시간'].str.startswith('21/') | df['접수완료시간'].str.startswith('22/') | df['접수완료시간'].str.startswith('23/')]\n",
        "    \n",
        "    df_err['year'] = '20' + df_err['접수완료시간'].str[0:2]\n",
        "    df_err['month'] = df_err['접수완료시간'].str[3:5]\n",
        "    df_err['day'] = df_err['접수완료시간'].str[6:8]\n",
        "    df_err['hour'] = df_err['접수완료시간'].str[9:11]\n",
        "    df_err['minute'] = df_err['접수완료시간'].str[12:14]\n",
        "    df_err['second'] = df_err['접수완료시간'].str[15:17]\n",
        "    df_err['TIME'] = df_err['year'] + '-' + df_err['month'] + '-' + df_err['day']+' ' +df_err['hour']+':'+df_err['minute']+':'+df_err['second']\n",
        "    df_err['접수완료시간'] = pd.to_datetime(df_err['TIME'])\n",
        "    df_err = df_err.drop(columns = ['year','month','day','hour','minute','second','TIME'])\n",
        "    \n",
        "    df_final = pd.concat([df_nerr, df_err ])\n",
        "    print(\"날짜 컬럼 통일 완료\")\n",
        "    return df_final\n",
        "\n",
        "def isitsame(df):\n",
        "    '''\n",
        "    동일사건 여부 값을 수정하는 함수입니다. Q는 nan으로 알 수 없음입니다.\n",
        "    '''\n",
        "    #print(\"[isitsame start]\")\n",
        "    df['동일사건여부'] = df['동일사건여부'].replace(np.nan,'Q').replace(\" \",'Q')\n",
        "    print(\"동일사건여부 컬럼 수정 완료\")\n",
        "    return df\n",
        "\n",
        "def final_merge(data1,data2):\n",
        "    '''\n",
        "    전처리된 데이터들을 병합하는 함수입니다.\n",
        "    '''\n",
        "    #print(\"[final_merge start]\")\n",
        "    data1 = data1.rename(columns = {'HPPN_PNU_ADDR':'사건주소'})\n",
        "    data2 = data2.rename(columns = {'HPPN_OLD_ADDR':'사건주소'})\n",
        "    df = pd.concat([data1,data2])\n",
        "    df = df.reset_index()\n",
        "    df = df.rename(columns = {'HPPN_X':'경도','HPPN_Y':'위도'}) # 원 데이터가 반대로 표시됨\n",
        "    print(\"전처리 완료\")\n",
        "    return df"
      ],
      "metadata": {
        "id": "CfYXkHyutfl7"
      },
      "execution_count": null,
      "outputs": []
    },
    {
      "cell_type": "code",
      "source": [
        "%%time\n",
        "df,npa = dataload('KP2020.csv','KP2021.csv' , 'NPA2020.csv')\n",
        "df,npa = column_change(df,npa)\n",
        "df = code_change(df)\n",
        "npa = code_change(npa)\n",
        "npa = npa_time_police(npa)\n",
        "df = df_datetime_change(df)\n",
        "df = isitsame(df)\n",
        "npa = isitsame(npa)\n",
        "data = final_merge(df,npa)"
      ],
      "metadata": {
        "id": "FcNEzMq7tgRp",
        "colab": {
          "base_uri": "https://localhost:8080/"
        },
        "outputId": "cc598855-04be-4037-c710-286ade72aa0c"
      },
      "execution_count": null,
      "outputs": [
        {
          "output_type": "stream",
          "name": "stdout",
          "text": [
            "데이터 로드 완료\n",
            "컬럼 제거 및 성별 코드 전환 완료\n",
            "사건상태코드 변환 완료\n",
            "사건상태코드 변환 완료\n",
            "날짜 컬럼 생성 완료\n",
            "날짜 컬럼 통일 완료\n",
            "동일사건여부 컬럼 수정 완료\n",
            "동일사건여부 컬럼 수정 완료\n",
            "전처리 완료\n",
            "CPU times: user 46.2 s, sys: 9.29 s, total: 55.5 s\n",
            "Wall time: 59 s\n"
          ]
        }
      ]
    },
    {
      "cell_type": "code",
      "source": [
        "%%time\n",
        "df_clean = data.dropna()\n",
        "df_clean = df_clean[df_clean.사건주소 != ' ']\n",
        "df_clean = df_clean.reset_index()\n",
        "df_clean = df_clean.drop(columns = ['level_0','index'])\n",
        "df_clean['지역1'] = df_clean[\"사건주소\"].str.split(\" \", expand = True)[0]\n",
        "df_clean['지역2'] = df_clean[\"사건주소\"].str.split(\" \", expand = True)[1]\n",
        "df_clean['지역'] = np.where(((df_clean.지역1 =='충청남도') | (df_clean.지역1 =='충남')),df_clean.지역2.values, df_clean.지역1.values)\n",
        "df_clean = df_clean.drop(columns = ['지역1','지역2'])\n",
        "keyword = ['천안시','아산시','아산','서산시','당진시','논산시','공주시','홍성군','보령군','예산군','부여군',\n",
        "           '태안군','서천군','금산군','계룡시','청양군','대전광역시','대전','세종특별자치시']\n",
        "df_target = df_clean[df_clean.지역.isin(keyword)]\n",
        "df_target['지역'] = df_target['지역'].replace('대전','대전광역시').replace('아산','아산시')\n",
        "df_target = df_target.reset_index()\n",
        "df_target = df_target.drop(columns = 'index')\n",
        "df_target['접수완료시간'] = pd.to_datetime(df_target['접수완료시간'])\n",
        "df_target = df_target.sort_values(by='접수완료시간',ascending=True)\n",
        "df_target['접수완료일'] = pd.to_datetime(df_target['접수완료시간']).dt.strftime('%Y-%m-%d')\n",
        "df_group = df_target.groupby(['지역','접수완료일']).agg(일별범죄횟수 = ('사건종별코드','count')).reset_index()\n",
        "df_group"
      ],
      "metadata": {
        "colab": {
          "base_uri": "https://localhost:8080/",
          "height": 460
        },
        "id": "f2HNoQrmtgTy",
        "outputId": "65391581-2ea5-489d-d66a-185defc9c94a"
      },
      "execution_count": null,
      "outputs": [
        {
          "output_type": "stream",
          "name": "stdout",
          "text": [
            "CPU times: user 38.7 s, sys: 2.68 s, total: 41.4 s\n",
            "Wall time: 41.6 s\n"
          ]
        },
        {
          "output_type": "execute_result",
          "data": {
            "text/plain": [
              "        지역       접수완료일  일별범죄횟수\n",
              "0      계룡시  2020-01-01       5\n",
              "1      계룡시  2020-01-02      11\n",
              "2      계룡시  2020-01-03      13\n",
              "3      계룡시  2020-01-04      58\n",
              "4      계룡시  2020-01-05      29\n",
              "...    ...         ...     ...\n",
              "17667  홍성군  2023-01-14      32\n",
              "17668  홍성군  2023-01-15      44\n",
              "17669  홍성군  2023-01-16      23\n",
              "17670  홍성군  2023-01-17      24\n",
              "17671  홍성군  2023-01-18      30\n",
              "\n",
              "[17672 rows x 3 columns]"
            ],
            "text/html": [
              "\n",
              "  <div id=\"df-4747c7dc-3a98-4219-9a2a-7cd1f1ed2efa\">\n",
              "    <div class=\"colab-df-container\">\n",
              "      <div>\n",
              "<style scoped>\n",
              "    .dataframe tbody tr th:only-of-type {\n",
              "        vertical-align: middle;\n",
              "    }\n",
              "\n",
              "    .dataframe tbody tr th {\n",
              "        vertical-align: top;\n",
              "    }\n",
              "\n",
              "    .dataframe thead th {\n",
              "        text-align: right;\n",
              "    }\n",
              "</style>\n",
              "<table border=\"1\" class=\"dataframe\">\n",
              "  <thead>\n",
              "    <tr style=\"text-align: right;\">\n",
              "      <th></th>\n",
              "      <th>지역</th>\n",
              "      <th>접수완료일</th>\n",
              "      <th>일별범죄횟수</th>\n",
              "    </tr>\n",
              "  </thead>\n",
              "  <tbody>\n",
              "    <tr>\n",
              "      <th>0</th>\n",
              "      <td>계룡시</td>\n",
              "      <td>2020-01-01</td>\n",
              "      <td>5</td>\n",
              "    </tr>\n",
              "    <tr>\n",
              "      <th>1</th>\n",
              "      <td>계룡시</td>\n",
              "      <td>2020-01-02</td>\n",
              "      <td>11</td>\n",
              "    </tr>\n",
              "    <tr>\n",
              "      <th>2</th>\n",
              "      <td>계룡시</td>\n",
              "      <td>2020-01-03</td>\n",
              "      <td>13</td>\n",
              "    </tr>\n",
              "    <tr>\n",
              "      <th>3</th>\n",
              "      <td>계룡시</td>\n",
              "      <td>2020-01-04</td>\n",
              "      <td>58</td>\n",
              "    </tr>\n",
              "    <tr>\n",
              "      <th>4</th>\n",
              "      <td>계룡시</td>\n",
              "      <td>2020-01-05</td>\n",
              "      <td>29</td>\n",
              "    </tr>\n",
              "    <tr>\n",
              "      <th>...</th>\n",
              "      <td>...</td>\n",
              "      <td>...</td>\n",
              "      <td>...</td>\n",
              "    </tr>\n",
              "    <tr>\n",
              "      <th>17667</th>\n",
              "      <td>홍성군</td>\n",
              "      <td>2023-01-14</td>\n",
              "      <td>32</td>\n",
              "    </tr>\n",
              "    <tr>\n",
              "      <th>17668</th>\n",
              "      <td>홍성군</td>\n",
              "      <td>2023-01-15</td>\n",
              "      <td>44</td>\n",
              "    </tr>\n",
              "    <tr>\n",
              "      <th>17669</th>\n",
              "      <td>홍성군</td>\n",
              "      <td>2023-01-16</td>\n",
              "      <td>23</td>\n",
              "    </tr>\n",
              "    <tr>\n",
              "      <th>17670</th>\n",
              "      <td>홍성군</td>\n",
              "      <td>2023-01-17</td>\n",
              "      <td>24</td>\n",
              "    </tr>\n",
              "    <tr>\n",
              "      <th>17671</th>\n",
              "      <td>홍성군</td>\n",
              "      <td>2023-01-18</td>\n",
              "      <td>30</td>\n",
              "    </tr>\n",
              "  </tbody>\n",
              "</table>\n",
              "<p>17672 rows × 3 columns</p>\n",
              "</div>\n",
              "      <button class=\"colab-df-convert\" onclick=\"convertToInteractive('df-4747c7dc-3a98-4219-9a2a-7cd1f1ed2efa')\"\n",
              "              title=\"Convert this dataframe to an interactive table.\"\n",
              "              style=\"display:none;\">\n",
              "        \n",
              "  <svg xmlns=\"http://www.w3.org/2000/svg\" height=\"24px\"viewBox=\"0 0 24 24\"\n",
              "       width=\"24px\">\n",
              "    <path d=\"M0 0h24v24H0V0z\" fill=\"none\"/>\n",
              "    <path d=\"M18.56 5.44l.94 2.06.94-2.06 2.06-.94-2.06-.94-.94-2.06-.94 2.06-2.06.94zm-11 1L8.5 8.5l.94-2.06 2.06-.94-2.06-.94L8.5 2.5l-.94 2.06-2.06.94zm10 10l.94 2.06.94-2.06 2.06-.94-2.06-.94-.94-2.06-.94 2.06-2.06.94z\"/><path d=\"M17.41 7.96l-1.37-1.37c-.4-.4-.92-.59-1.43-.59-.52 0-1.04.2-1.43.59L10.3 9.45l-7.72 7.72c-.78.78-.78 2.05 0 2.83L4 21.41c.39.39.9.59 1.41.59.51 0 1.02-.2 1.41-.59l7.78-7.78 2.81-2.81c.8-.78.8-2.07 0-2.86zM5.41 20L4 18.59l7.72-7.72 1.47 1.35L5.41 20z\"/>\n",
              "  </svg>\n",
              "      </button>\n",
              "      \n",
              "  <style>\n",
              "    .colab-df-container {\n",
              "      display:flex;\n",
              "      flex-wrap:wrap;\n",
              "      gap: 12px;\n",
              "    }\n",
              "\n",
              "    .colab-df-convert {\n",
              "      background-color: #E8F0FE;\n",
              "      border: none;\n",
              "      border-radius: 50%;\n",
              "      cursor: pointer;\n",
              "      display: none;\n",
              "      fill: #1967D2;\n",
              "      height: 32px;\n",
              "      padding: 0 0 0 0;\n",
              "      width: 32px;\n",
              "    }\n",
              "\n",
              "    .colab-df-convert:hover {\n",
              "      background-color: #E2EBFA;\n",
              "      box-shadow: 0px 1px 2px rgba(60, 64, 67, 0.3), 0px 1px 3px 1px rgba(60, 64, 67, 0.15);\n",
              "      fill: #174EA6;\n",
              "    }\n",
              "\n",
              "    [theme=dark] .colab-df-convert {\n",
              "      background-color: #3B4455;\n",
              "      fill: #D2E3FC;\n",
              "    }\n",
              "\n",
              "    [theme=dark] .colab-df-convert:hover {\n",
              "      background-color: #434B5C;\n",
              "      box-shadow: 0px 1px 3px 1px rgba(0, 0, 0, 0.15);\n",
              "      filter: drop-shadow(0px 1px 2px rgba(0, 0, 0, 0.3));\n",
              "      fill: #FFFFFF;\n",
              "    }\n",
              "  </style>\n",
              "\n",
              "      <script>\n",
              "        const buttonEl =\n",
              "          document.querySelector('#df-4747c7dc-3a98-4219-9a2a-7cd1f1ed2efa button.colab-df-convert');\n",
              "        buttonEl.style.display =\n",
              "          google.colab.kernel.accessAllowed ? 'block' : 'none';\n",
              "\n",
              "        async function convertToInteractive(key) {\n",
              "          const element = document.querySelector('#df-4747c7dc-3a98-4219-9a2a-7cd1f1ed2efa');\n",
              "          const dataTable =\n",
              "            await google.colab.kernel.invokeFunction('convertToInteractive',\n",
              "                                                     [key], {});\n",
              "          if (!dataTable) return;\n",
              "\n",
              "          const docLinkHtml = 'Like what you see? Visit the ' +\n",
              "            '<a target=\"_blank\" href=https://colab.research.google.com/notebooks/data_table.ipynb>data table notebook</a>'\n",
              "            + ' to learn more about interactive tables.';\n",
              "          element.innerHTML = '';\n",
              "          dataTable['output_type'] = 'display_data';\n",
              "          await google.colab.output.renderOutput(dataTable, element);\n",
              "          const docLink = document.createElement('div');\n",
              "          docLink.innerHTML = docLinkHtml;\n",
              "          element.appendChild(docLink);\n",
              "        }\n",
              "      </script>\n",
              "    </div>\n",
              "  </div>\n",
              "  "
            ]
          },
          "metadata": {},
          "execution_count": 13
        }
      ]
    },
    {
      "cell_type": "code",
      "source": [
        "data = df_group[['일별범죄횟수']]\n",
        "data"
      ],
      "metadata": {
        "colab": {
          "base_uri": "https://localhost:8080/",
          "height": 423
        },
        "id": "GYA7zLFcv__g",
        "outputId": "190784c5-e931-488b-c281-c2c93e81a5bd"
      },
      "execution_count": null,
      "outputs": [
        {
          "output_type": "execute_result",
          "data": {
            "text/plain": [
              "       일별범죄횟수\n",
              "0           5\n",
              "1          11\n",
              "2          13\n",
              "3          58\n",
              "4          29\n",
              "...       ...\n",
              "17667      32\n",
              "17668      44\n",
              "17669      23\n",
              "17670      24\n",
              "17671      30\n",
              "\n",
              "[17672 rows x 1 columns]"
            ],
            "text/html": [
              "\n",
              "  <div id=\"df-a4bdabf5-dfea-439d-837f-9d86d13d0136\">\n",
              "    <div class=\"colab-df-container\">\n",
              "      <div>\n",
              "<style scoped>\n",
              "    .dataframe tbody tr th:only-of-type {\n",
              "        vertical-align: middle;\n",
              "    }\n",
              "\n",
              "    .dataframe tbody tr th {\n",
              "        vertical-align: top;\n",
              "    }\n",
              "\n",
              "    .dataframe thead th {\n",
              "        text-align: right;\n",
              "    }\n",
              "</style>\n",
              "<table border=\"1\" class=\"dataframe\">\n",
              "  <thead>\n",
              "    <tr style=\"text-align: right;\">\n",
              "      <th></th>\n",
              "      <th>일별범죄횟수</th>\n",
              "    </tr>\n",
              "  </thead>\n",
              "  <tbody>\n",
              "    <tr>\n",
              "      <th>0</th>\n",
              "      <td>5</td>\n",
              "    </tr>\n",
              "    <tr>\n",
              "      <th>1</th>\n",
              "      <td>11</td>\n",
              "    </tr>\n",
              "    <tr>\n",
              "      <th>2</th>\n",
              "      <td>13</td>\n",
              "    </tr>\n",
              "    <tr>\n",
              "      <th>3</th>\n",
              "      <td>58</td>\n",
              "    </tr>\n",
              "    <tr>\n",
              "      <th>4</th>\n",
              "      <td>29</td>\n",
              "    </tr>\n",
              "    <tr>\n",
              "      <th>...</th>\n",
              "      <td>...</td>\n",
              "    </tr>\n",
              "    <tr>\n",
              "      <th>17667</th>\n",
              "      <td>32</td>\n",
              "    </tr>\n",
              "    <tr>\n",
              "      <th>17668</th>\n",
              "      <td>44</td>\n",
              "    </tr>\n",
              "    <tr>\n",
              "      <th>17669</th>\n",
              "      <td>23</td>\n",
              "    </tr>\n",
              "    <tr>\n",
              "      <th>17670</th>\n",
              "      <td>24</td>\n",
              "    </tr>\n",
              "    <tr>\n",
              "      <th>17671</th>\n",
              "      <td>30</td>\n",
              "    </tr>\n",
              "  </tbody>\n",
              "</table>\n",
              "<p>17672 rows × 1 columns</p>\n",
              "</div>\n",
              "      <button class=\"colab-df-convert\" onclick=\"convertToInteractive('df-a4bdabf5-dfea-439d-837f-9d86d13d0136')\"\n",
              "              title=\"Convert this dataframe to an interactive table.\"\n",
              "              style=\"display:none;\">\n",
              "        \n",
              "  <svg xmlns=\"http://www.w3.org/2000/svg\" height=\"24px\"viewBox=\"0 0 24 24\"\n",
              "       width=\"24px\">\n",
              "    <path d=\"M0 0h24v24H0V0z\" fill=\"none\"/>\n",
              "    <path d=\"M18.56 5.44l.94 2.06.94-2.06 2.06-.94-2.06-.94-.94-2.06-.94 2.06-2.06.94zm-11 1L8.5 8.5l.94-2.06 2.06-.94-2.06-.94L8.5 2.5l-.94 2.06-2.06.94zm10 10l.94 2.06.94-2.06 2.06-.94-2.06-.94-.94-2.06-.94 2.06-2.06.94z\"/><path d=\"M17.41 7.96l-1.37-1.37c-.4-.4-.92-.59-1.43-.59-.52 0-1.04.2-1.43.59L10.3 9.45l-7.72 7.72c-.78.78-.78 2.05 0 2.83L4 21.41c.39.39.9.59 1.41.59.51 0 1.02-.2 1.41-.59l7.78-7.78 2.81-2.81c.8-.78.8-2.07 0-2.86zM5.41 20L4 18.59l7.72-7.72 1.47 1.35L5.41 20z\"/>\n",
              "  </svg>\n",
              "      </button>\n",
              "      \n",
              "  <style>\n",
              "    .colab-df-container {\n",
              "      display:flex;\n",
              "      flex-wrap:wrap;\n",
              "      gap: 12px;\n",
              "    }\n",
              "\n",
              "    .colab-df-convert {\n",
              "      background-color: #E8F0FE;\n",
              "      border: none;\n",
              "      border-radius: 50%;\n",
              "      cursor: pointer;\n",
              "      display: none;\n",
              "      fill: #1967D2;\n",
              "      height: 32px;\n",
              "      padding: 0 0 0 0;\n",
              "      width: 32px;\n",
              "    }\n",
              "\n",
              "    .colab-df-convert:hover {\n",
              "      background-color: #E2EBFA;\n",
              "      box-shadow: 0px 1px 2px rgba(60, 64, 67, 0.3), 0px 1px 3px 1px rgba(60, 64, 67, 0.15);\n",
              "      fill: #174EA6;\n",
              "    }\n",
              "\n",
              "    [theme=dark] .colab-df-convert {\n",
              "      background-color: #3B4455;\n",
              "      fill: #D2E3FC;\n",
              "    }\n",
              "\n",
              "    [theme=dark] .colab-df-convert:hover {\n",
              "      background-color: #434B5C;\n",
              "      box-shadow: 0px 1px 3px 1px rgba(0, 0, 0, 0.15);\n",
              "      filter: drop-shadow(0px 1px 2px rgba(0, 0, 0, 0.3));\n",
              "      fill: #FFFFFF;\n",
              "    }\n",
              "  </style>\n",
              "\n",
              "      <script>\n",
              "        const buttonEl =\n",
              "          document.querySelector('#df-a4bdabf5-dfea-439d-837f-9d86d13d0136 button.colab-df-convert');\n",
              "        buttonEl.style.display =\n",
              "          google.colab.kernel.accessAllowed ? 'block' : 'none';\n",
              "\n",
              "        async function convertToInteractive(key) {\n",
              "          const element = document.querySelector('#df-a4bdabf5-dfea-439d-837f-9d86d13d0136');\n",
              "          const dataTable =\n",
              "            await google.colab.kernel.invokeFunction('convertToInteractive',\n",
              "                                                     [key], {});\n",
              "          if (!dataTable) return;\n",
              "\n",
              "          const docLinkHtml = 'Like what you see? Visit the ' +\n",
              "            '<a target=\"_blank\" href=https://colab.research.google.com/notebooks/data_table.ipynb>data table notebook</a>'\n",
              "            + ' to learn more about interactive tables.';\n",
              "          element.innerHTML = '';\n",
              "          dataTable['output_type'] = 'display_data';\n",
              "          await google.colab.output.renderOutput(dataTable, element);\n",
              "          const docLink = document.createElement('div');\n",
              "          docLink.innerHTML = docLinkHtml;\n",
              "          element.appendChild(docLink);\n",
              "        }\n",
              "      </script>\n",
              "    </div>\n",
              "  </div>\n",
              "  "
            ]
          },
          "metadata": {},
          "execution_count": 33
        }
      ]
    },
    {
      "cell_type": "code",
      "source": [
        "DAY = 15000\n",
        "arr = np.array(data)\n",
        "x_train = []\n",
        "y_train = []\n",
        "\n",
        "for x in range(DAY, len(df_group)):\n",
        "    x_train.append(arr[x-DAY:x,0])\n",
        "    y_train.append(arr[x,0])\n",
        "x_train,y_train = np.array(x_train).astype(np.float32), np.array(y_train).astype(np.float32)\n",
        "x_train = np.reshape(x_train, (x_train.shape[0], x_train.shape[1], 1))\n",
        "x_train.shape,y_train.shape"
      ],
      "metadata": {
        "colab": {
          "base_uri": "https://localhost:8080/"
        },
        "id": "lOIE3Jg-q8xm",
        "outputId": "ec0e68fe-cb45-45d0-b6a3-9088510f3796"
      },
      "execution_count": null,
      "outputs": [
        {
          "output_type": "execute_result",
          "data": {
            "text/plain": [
              "((2672, 15000, 1), (2672,))"
            ]
          },
          "metadata": {},
          "execution_count": 34
        }
      ]
    },
    {
      "cell_type": "code",
      "source": [
        "from sklearn.preprocessing import MinMaxScaler\n",
        "from tensorflow.keras.models import Sequential\n",
        "from tensorflow.keras.layers import Dense, Dropout, LSTM\n",
        "from tensorflow.keras.callbacks import ModelCheckpoint, EarlyStopping"
      ],
      "metadata": {
        "id": "sHq2k-Tzq8z2"
      },
      "execution_count": null,
      "outputs": []
    },
    {
      "cell_type": "code",
      "source": [
        "def LSTM_model():\n",
        "    \n",
        "    model = Sequential()\n",
        "    \n",
        "    model.add(LSTM(units = 50, return_sequences = True, input_shape = (x_train.shape[1],1)))\n",
        "    model.add(Dropout(0.2))\n",
        "\n",
        "    model.add(LSTM(units = 50, return_sequences = True))\n",
        "    model.add(Dropout(0.2))\n",
        "\n",
        "    model.add(LSTM(units = 50))\n",
        "    model.add(Dropout(0.2))\n",
        "    \n",
        "    model.add(Dense(units=1))\n",
        "    \n",
        "    return model\n",
        "\n",
        "model = LSTM_model()\n",
        "model.summary()\n",
        "model.compile(optimizer='adam', \n",
        "              loss='mean_squared_error')"
      ],
      "metadata": {
        "colab": {
          "base_uri": "https://localhost:8080/"
        },
        "id": "NBMUvshGq82Z",
        "outputId": "6ebcda0f-79cb-4ae9-d369-bfe77e4fee75"
      },
      "execution_count": null,
      "outputs": [
        {
          "output_type": "stream",
          "name": "stdout",
          "text": [
            "Model: \"sequential_3\"\n",
            "_________________________________________________________________\n",
            " Layer (type)                Output Shape              Param #   \n",
            "=================================================================\n",
            " lstm_6 (LSTM)               (None, 15000, 50)         10400     \n",
            "                                                                 \n",
            " dropout_6 (Dropout)         (None, 15000, 50)         0         \n",
            "                                                                 \n",
            " lstm_7 (LSTM)               (None, 15000, 50)         20200     \n",
            "                                                                 \n",
            " dropout_7 (Dropout)         (None, 15000, 50)         0         \n",
            "                                                                 \n",
            " lstm_8 (LSTM)               (None, 50)                20200     \n",
            "                                                                 \n",
            " dropout_8 (Dropout)         (None, 50)                0         \n",
            "                                                                 \n",
            " dense_2 (Dense)             (None, 1)                 51        \n",
            "                                                                 \n",
            "=================================================================\n",
            "Total params: 50,851\n",
            "Trainable params: 50,851\n",
            "Non-trainable params: 0\n",
            "_________________________________________________________________\n"
          ]
        }
      ]
    },
    {
      "cell_type": "code",
      "source": [
        "# Define callbacks\n",
        "\n",
        "# Save weights only for best model\n",
        "checkpointer = ModelCheckpoint(filepath = 'weights_best.hdf5', \n",
        "                               verbose = 2, \n",
        "                               save_best_only = True)\n",
        "\n",
        "model.fit(x_train, \n",
        "          y_train, \n",
        "          epochs=5, \n",
        "          batch_size = 32,\n",
        "          callbacks = [checkpointer])"
      ],
      "metadata": {
        "colab": {
          "base_uri": "https://localhost:8080/"
        },
        "id": "JMclFxiXq84N",
        "outputId": "b6d0cc0a-9a6e-480c-cb0a-9596614381ab"
      },
      "execution_count": null,
      "outputs": [
        {
          "output_type": "stream",
          "name": "stdout",
          "text": [
            "Epoch 1/5\n",
            "84/84 [==============================] - ETA: 0s - loss: 871.2463"
          ]
        },
        {
          "output_type": "stream",
          "name": "stderr",
          "text": [
            "WARNING:tensorflow:Can save best model only with val_loss available, skipping.\n"
          ]
        },
        {
          "output_type": "stream",
          "name": "stdout",
          "text": [
            "\b\b\b\b\b\b\b\b\b\b\b\b\b\b\b\b\b\b\b\b\b\b\b\b\b\b\b\b\b\b\b\b\b\b\b\b\b\b\b\b\b\b\b\b\b\b\b\b\b\b\b\b\b\b\b\b\b\b\b\b\b\b\b\b\b\r84/84 [==============================] - 97s 1s/step - loss: 871.2463\n",
            "Epoch 2/5\n",
            "84/84 [==============================] - ETA: 0s - loss: 593.8476"
          ]
        },
        {
          "output_type": "stream",
          "name": "stderr",
          "text": [
            "WARNING:tensorflow:Can save best model only with val_loss available, skipping.\n"
          ]
        },
        {
          "output_type": "stream",
          "name": "stdout",
          "text": [
            "\b\b\b\b\b\b\b\b\b\b\b\b\b\b\b\b\b\b\b\b\b\b\b\b\b\b\b\b\b\b\b\b\b\b\b\b\b\b\b\b\b\b\b\b\b\b\b\b\b\b\b\b\b\b\b\b\b\b\b\b\b\b\b\b\b\r84/84 [==============================] - 93s 1s/step - loss: 593.8476\n",
            "Epoch 3/5\n",
            "84/84 [==============================] - ETA: 0s - loss: 477.9838"
          ]
        },
        {
          "output_type": "stream",
          "name": "stderr",
          "text": [
            "WARNING:tensorflow:Can save best model only with val_loss available, skipping.\n"
          ]
        },
        {
          "output_type": "stream",
          "name": "stdout",
          "text": [
            "\b\b\b\b\b\b\b\b\b\b\b\b\b\b\b\b\b\b\b\b\b\b\b\b\b\b\b\b\b\b\b\b\b\b\b\b\b\b\b\b\b\b\b\b\b\b\b\b\b\b\b\b\b\b\b\b\b\b\b\b\b\b\b\b\b\r84/84 [==============================] - 93s 1s/step - loss: 477.9838\n",
            "Epoch 4/5\n",
            "84/84 [==============================] - ETA: 0s - loss: 405.5655"
          ]
        },
        {
          "output_type": "stream",
          "name": "stderr",
          "text": [
            "WARNING:tensorflow:Can save best model only with val_loss available, skipping.\n"
          ]
        },
        {
          "output_type": "stream",
          "name": "stdout",
          "text": [
            "\b\b\b\b\b\b\b\b\b\b\b\b\b\b\b\b\b\b\b\b\b\b\b\b\b\b\b\b\b\b\b\b\b\b\b\b\b\b\b\b\b\b\b\b\b\b\b\b\b\b\b\b\b\b\b\b\b\b\b\b\b\b\b\b\b\r84/84 [==============================] - 93s 1s/step - loss: 405.5655\n",
            "Epoch 5/5\n",
            "84/84 [==============================] - ETA: 0s - loss: 356.7107"
          ]
        },
        {
          "output_type": "stream",
          "name": "stderr",
          "text": [
            "WARNING:tensorflow:Can save best model only with val_loss available, skipping.\n"
          ]
        },
        {
          "output_type": "stream",
          "name": "stdout",
          "text": [
            "\b\b\b\b\b\b\b\b\b\b\b\b\b\b\b\b\b\b\b\b\b\b\b\b\b\b\b\b\b\b\b\b\b\b\b\b\b\b\b\b\b\b\b\b\b\b\b\b\b\b\b\b\b\b\b\b\b\b\b\b\b\b\b\b\b\r84/84 [==============================] - 93s 1s/step - loss: 356.7107\n"
          ]
        },
        {
          "output_type": "execute_result",
          "data": {
            "text/plain": [
              "<keras.callbacks.History at 0x7faee691df10>"
            ]
          },
          "metadata": {},
          "execution_count": 37
        }
      ]
    },
    {
      "cell_type": "code",
      "source": [
        "arr[1:0]"
      ],
      "metadata": {
        "colab": {
          "base_uri": "https://localhost:8080/"
        },
        "id": "xthsVADqvb2Z",
        "outputId": "6b64b63d-02d3-418c-83ea-3104a40f30af"
      },
      "execution_count": null,
      "outputs": [
        {
          "output_type": "execute_result",
          "data": {
            "text/plain": [
              "array([], shape=(0, 10), dtype=object)"
            ]
          },
          "metadata": {},
          "execution_count": 27
        }
      ]
    },
    {
      "cell_type": "code",
      "source": [
        "DAY = 15000\n",
        "arr = np.array(data)\n",
        "x_train = []\n",
        "y_train = []\n",
        "\n",
        "for x in range(DAY, len(df_group)):\n",
        "    x_train.append(arr[x-DAY:x,0])\n",
        "    y_train.append(arr[x,0])\n",
        "x_train,y_train = np.array(x_train).astype(np.float32), np.array(y_train).astype(np.float32)\n",
        "x_train = np.reshape(x_train, (x_train.shape[0], x_train.shape[1], 1))\n",
        "x_train.shape,y_train.shape"
      ],
      "metadata": {
        "id": "c5I3vUVVveKb"
      },
      "execution_count": null,
      "outputs": []
    },
    {
      "cell_type": "code",
      "source": [
        "x_test = []\n",
        "for x in range(DAY,len(df_group)):\n",
        "  x_test.append(arr[x-DAY:x,0])\n",
        "x_test = np.array(x_test).astype(np.float32)\n",
        "x_test = np.reshape(x_test , (x_test.shape[0], x_test.shape[1] ,1))\n"
      ],
      "metadata": {
        "id": "YX2UHbYpyIm0"
      },
      "execution_count": null,
      "outputs": []
    },
    {
      "cell_type": "code",
      "source": [
        "pred = model.predict(x_test)"
      ],
      "metadata": {
        "colab": {
          "base_uri": "https://localhost:8080/"
        },
        "id": "iplgERMHyj0t",
        "outputId": "9dcca9f8-0215-49b2-d65e-95408c7a70d9"
      },
      "execution_count": null,
      "outputs": [
        {
          "output_type": "stream",
          "name": "stdout",
          "text": [
            "84/84 [==============================] - 45s 523ms/step\n"
          ]
        }
      ]
    },
    {
      "cell_type": "code",
      "source": [
        "pred[0]"
      ],
      "metadata": {
        "colab": {
          "base_uri": "https://localhost:8080/"
        },
        "id": "bbEe4HsUzUMW",
        "outputId": "23f5a5c7-47c6-48c1-f866-121dd3c96f26"
      },
      "execution_count": null,
      "outputs": [
        {
          "output_type": "execute_result",
          "data": {
            "text/plain": [
              "array([24.965538], dtype=float32)"
            ]
          },
          "metadata": {},
          "execution_count": 59
        }
      ]
    },
    {
      "cell_type": "code",
      "source": [
        "prediction = pd.DataFrame()\n",
        "prediction['sample'] = pred.tolist()\n",
        "prediction = prediction.astype({'sample':'str'})\n",
        "prediction['pred'] = prediction['sample'].str.extract('(\\d+.\\d+)')#.str.replace('[','')\n",
        "#prediction['PRED'] = prediction['pred'].str.extract('(\\d+.\\d+)')\n",
        "prediction = prediction[['pred']]\n",
        "prediction"
      ],
      "metadata": {
        "colab": {
          "base_uri": "https://localhost:8080/",
          "height": 423
        },
        "id": "R6r1s_gnz7LA",
        "outputId": "10dd460a-8f9e-4755-c0aa-9a10e7bba8cd"
      },
      "execution_count": null,
      "outputs": [
        {
          "output_type": "execute_result",
          "data": {
            "text/plain": [
              "                    pred\n",
              "0     24.965538024902344\n",
              "1     24.965173721313477\n",
              "2     24.965187072753906\n",
              "3     24.964893341064453\n",
              "4     24.965309143066406\n",
              "...                  ...\n",
              "2667  24.974485397338867\n",
              "2668  24.974502563476562\n",
              "2669  24.974485397338867\n",
              "2670  24.974512100219727\n",
              "2671  24.974517822265625\n",
              "\n",
              "[2672 rows x 1 columns]"
            ],
            "text/html": [
              "\n",
              "  <div id=\"df-8a9fcdb8-d3f5-4d86-b0b7-b5dd9558e7d9\">\n",
              "    <div class=\"colab-df-container\">\n",
              "      <div>\n",
              "<style scoped>\n",
              "    .dataframe tbody tr th:only-of-type {\n",
              "        vertical-align: middle;\n",
              "    }\n",
              "\n",
              "    .dataframe tbody tr th {\n",
              "        vertical-align: top;\n",
              "    }\n",
              "\n",
              "    .dataframe thead th {\n",
              "        text-align: right;\n",
              "    }\n",
              "</style>\n",
              "<table border=\"1\" class=\"dataframe\">\n",
              "  <thead>\n",
              "    <tr style=\"text-align: right;\">\n",
              "      <th></th>\n",
              "      <th>pred</th>\n",
              "    </tr>\n",
              "  </thead>\n",
              "  <tbody>\n",
              "    <tr>\n",
              "      <th>0</th>\n",
              "      <td>24.965538024902344</td>\n",
              "    </tr>\n",
              "    <tr>\n",
              "      <th>1</th>\n",
              "      <td>24.965173721313477</td>\n",
              "    </tr>\n",
              "    <tr>\n",
              "      <th>2</th>\n",
              "      <td>24.965187072753906</td>\n",
              "    </tr>\n",
              "    <tr>\n",
              "      <th>3</th>\n",
              "      <td>24.964893341064453</td>\n",
              "    </tr>\n",
              "    <tr>\n",
              "      <th>4</th>\n",
              "      <td>24.965309143066406</td>\n",
              "    </tr>\n",
              "    <tr>\n",
              "      <th>...</th>\n",
              "      <td>...</td>\n",
              "    </tr>\n",
              "    <tr>\n",
              "      <th>2667</th>\n",
              "      <td>24.974485397338867</td>\n",
              "    </tr>\n",
              "    <tr>\n",
              "      <th>2668</th>\n",
              "      <td>24.974502563476562</td>\n",
              "    </tr>\n",
              "    <tr>\n",
              "      <th>2669</th>\n",
              "      <td>24.974485397338867</td>\n",
              "    </tr>\n",
              "    <tr>\n",
              "      <th>2670</th>\n",
              "      <td>24.974512100219727</td>\n",
              "    </tr>\n",
              "    <tr>\n",
              "      <th>2671</th>\n",
              "      <td>24.974517822265625</td>\n",
              "    </tr>\n",
              "  </tbody>\n",
              "</table>\n",
              "<p>2672 rows × 1 columns</p>\n",
              "</div>\n",
              "      <button class=\"colab-df-convert\" onclick=\"convertToInteractive('df-8a9fcdb8-d3f5-4d86-b0b7-b5dd9558e7d9')\"\n",
              "              title=\"Convert this dataframe to an interactive table.\"\n",
              "              style=\"display:none;\">\n",
              "        \n",
              "  <svg xmlns=\"http://www.w3.org/2000/svg\" height=\"24px\"viewBox=\"0 0 24 24\"\n",
              "       width=\"24px\">\n",
              "    <path d=\"M0 0h24v24H0V0z\" fill=\"none\"/>\n",
              "    <path d=\"M18.56 5.44l.94 2.06.94-2.06 2.06-.94-2.06-.94-.94-2.06-.94 2.06-2.06.94zm-11 1L8.5 8.5l.94-2.06 2.06-.94-2.06-.94L8.5 2.5l-.94 2.06-2.06.94zm10 10l.94 2.06.94-2.06 2.06-.94-2.06-.94-.94-2.06-.94 2.06-2.06.94z\"/><path d=\"M17.41 7.96l-1.37-1.37c-.4-.4-.92-.59-1.43-.59-.52 0-1.04.2-1.43.59L10.3 9.45l-7.72 7.72c-.78.78-.78 2.05 0 2.83L4 21.41c.39.39.9.59 1.41.59.51 0 1.02-.2 1.41-.59l7.78-7.78 2.81-2.81c.8-.78.8-2.07 0-2.86zM5.41 20L4 18.59l7.72-7.72 1.47 1.35L5.41 20z\"/>\n",
              "  </svg>\n",
              "      </button>\n",
              "      \n",
              "  <style>\n",
              "    .colab-df-container {\n",
              "      display:flex;\n",
              "      flex-wrap:wrap;\n",
              "      gap: 12px;\n",
              "    }\n",
              "\n",
              "    .colab-df-convert {\n",
              "      background-color: #E8F0FE;\n",
              "      border: none;\n",
              "      border-radius: 50%;\n",
              "      cursor: pointer;\n",
              "      display: none;\n",
              "      fill: #1967D2;\n",
              "      height: 32px;\n",
              "      padding: 0 0 0 0;\n",
              "      width: 32px;\n",
              "    }\n",
              "\n",
              "    .colab-df-convert:hover {\n",
              "      background-color: #E2EBFA;\n",
              "      box-shadow: 0px 1px 2px rgba(60, 64, 67, 0.3), 0px 1px 3px 1px rgba(60, 64, 67, 0.15);\n",
              "      fill: #174EA6;\n",
              "    }\n",
              "\n",
              "    [theme=dark] .colab-df-convert {\n",
              "      background-color: #3B4455;\n",
              "      fill: #D2E3FC;\n",
              "    }\n",
              "\n",
              "    [theme=dark] .colab-df-convert:hover {\n",
              "      background-color: #434B5C;\n",
              "      box-shadow: 0px 1px 3px 1px rgba(0, 0, 0, 0.15);\n",
              "      filter: drop-shadow(0px 1px 2px rgba(0, 0, 0, 0.3));\n",
              "      fill: #FFFFFF;\n",
              "    }\n",
              "  </style>\n",
              "\n",
              "      <script>\n",
              "        const buttonEl =\n",
              "          document.querySelector('#df-8a9fcdb8-d3f5-4d86-b0b7-b5dd9558e7d9 button.colab-df-convert');\n",
              "        buttonEl.style.display =\n",
              "          google.colab.kernel.accessAllowed ? 'block' : 'none';\n",
              "\n",
              "        async function convertToInteractive(key) {\n",
              "          const element = document.querySelector('#df-8a9fcdb8-d3f5-4d86-b0b7-b5dd9558e7d9');\n",
              "          const dataTable =\n",
              "            await google.colab.kernel.invokeFunction('convertToInteractive',\n",
              "                                                     [key], {});\n",
              "          if (!dataTable) return;\n",
              "\n",
              "          const docLinkHtml = 'Like what you see? Visit the ' +\n",
              "            '<a target=\"_blank\" href=https://colab.research.google.com/notebooks/data_table.ipynb>data table notebook</a>'\n",
              "            + ' to learn more about interactive tables.';\n",
              "          element.innerHTML = '';\n",
              "          dataTable['output_type'] = 'display_data';\n",
              "          await google.colab.output.renderOutput(dataTable, element);\n",
              "          const docLink = document.createElement('div');\n",
              "          docLink.innerHTML = docLinkHtml;\n",
              "          element.appendChild(docLink);\n",
              "        }\n",
              "      </script>\n",
              "    </div>\n",
              "  </div>\n",
              "  "
            ]
          },
          "metadata": {},
          "execution_count": 87
        }
      ]
    },
    {
      "cell_type": "code",
      "source": [
        "prediction = prediction.astype({'pred':'float'})"
      ],
      "metadata": {
        "id": "r38fd7B72txG"
      },
      "execution_count": null,
      "outputs": []
    },
    {
      "cell_type": "code",
      "source": [
        "sns.lineplot(x = prediction.index, y='pred',data = prediction)"
      ],
      "metadata": {
        "colab": {
          "base_uri": "https://localhost:8080/",
          "height": 299
        },
        "id": "zJKgu3gb2q7s",
        "outputId": "798cae92-5270-472b-b41e-9e0c5c419b13"
      },
      "execution_count": null,
      "outputs": [
        {
          "output_type": "execute_result",
          "data": {
            "text/plain": [
              "<matplotlib.axes._subplots.AxesSubplot at 0x7faef71aba60>"
            ]
          },
          "metadata": {},
          "execution_count": 95
        },
        {
          "output_type": "display_data",
          "data": {
            "text/plain": [
              "<Figure size 432x288 with 1 Axes>"
            ],
            "image/png": "[encoded data removed]"
          },
          "metadata": {
            "needs_background": "light"
          }
        }
      ]
    },
    {
      "cell_type": "code",
      "source": [
        "val = df_group.iloc[-2672:].reset_index()\n",
        "val"
      ],
      "metadata": {
        "colab": {
          "base_uri": "https://localhost:8080/",
          "height": 423
        },
        "id": "S2r68G_O3PhZ",
        "outputId": "83037520-1ee1-4ca6-d889-33d208029908"
      },
      "execution_count": null,
      "outputs": [
        {
          "output_type": "execute_result",
          "data": {
            "text/plain": [
              "      index   지역       접수완료일  일별범죄횟수\n",
              "0     15000  청양군  2021-10-12       3\n",
              "1     15001  청양군  2021-10-13       6\n",
              "2     15002  청양군  2021-10-14       3\n",
              "3     15003  청양군  2021-10-15      12\n",
              "4     15004  청양군  2021-10-16       7\n",
              "...     ...  ...         ...     ...\n",
              "2667  17667  홍성군  2023-01-14      32\n",
              "2668  17668  홍성군  2023-01-15      44\n",
              "2669  17669  홍성군  2023-01-16      23\n",
              "2670  17670  홍성군  2023-01-17      24\n",
              "2671  17671  홍성군  2023-01-18      30\n",
              "\n",
              "[2672 rows x 4 columns]"
            ],
            "text/html": [
              "\n",
              "  <div id=\"df-5696e2ea-8b2f-4e01-948b-275a30a95649\">\n",
              "    <div class=\"colab-df-container\">\n",
              "      <div>\n",
              "<style scoped>\n",
              "    .dataframe tbody tr th:only-of-type {\n",
              "        vertical-align: middle;\n",
              "    }\n",
              "\n",
              "    .dataframe tbody tr th {\n",
              "        vertical-align: top;\n",
              "    }\n",
              "\n",
              "    .dataframe thead th {\n",
              "        text-align: right;\n",
              "    }\n",
              "</style>\n",
              "<table border=\"1\" class=\"dataframe\">\n",
              "  <thead>\n",
              "    <tr style=\"text-align: right;\">\n",
              "      <th></th>\n",
              "      <th>index</th>\n",
              "      <th>지역</th>\n",
              "      <th>접수완료일</th>\n",
              "      <th>일별범죄횟수</th>\n",
              "    </tr>\n",
              "  </thead>\n",
              "  <tbody>\n",
              "    <tr>\n",
              "      <th>0</th>\n",
              "      <td>15000</td>\n",
              "      <td>청양군</td>\n",
              "      <td>2021-10-12</td>\n",
              "      <td>3</td>\n",
              "    </tr>\n",
              "    <tr>\n",
              "      <th>1</th>\n",
              "      <td>15001</td>\n",
              "      <td>청양군</td>\n",
              "      <td>2021-10-13</td>\n",
              "      <td>6</td>\n",
              "    </tr>\n",
              "    <tr>\n",
              "      <th>2</th>\n",
              "      <td>15002</td>\n",
              "      <td>청양군</td>\n",
              "      <td>2021-10-14</td>\n",
              "      <td>3</td>\n",
              "    </tr>\n",
              "    <tr>\n",
              "      <th>3</th>\n",
              "      <td>15003</td>\n",
              "      <td>청양군</td>\n",
              "      <td>2021-10-15</td>\n",
              "      <td>12</td>\n",
              "    </tr>\n",
              "    <tr>\n",
              "      <th>4</th>\n",
              "      <td>15004</td>\n",
              "      <td>청양군</td>\n",
              "      <td>2021-10-16</td>\n",
              "      <td>7</td>\n",
              "    </tr>\n",
              "    <tr>\n",
              "      <th>...</th>\n",
              "      <td>...</td>\n",
              "      <td>...</td>\n",
              "      <td>...</td>\n",
              "      <td>...</td>\n",
              "    </tr>\n",
              "    <tr>\n",
              "      <th>2667</th>\n",
              "      <td>17667</td>\n",
              "      <td>홍성군</td>\n",
              "      <td>2023-01-14</td>\n",
              "      <td>32</td>\n",
              "    </tr>\n",
              "    <tr>\n",
              "      <th>2668</th>\n",
              "      <td>17668</td>\n",
              "      <td>홍성군</td>\n",
              "      <td>2023-01-15</td>\n",
              "      <td>44</td>\n",
              "    </tr>\n",
              "    <tr>\n",
              "      <th>2669</th>\n",
              "      <td>17669</td>\n",
              "      <td>홍성군</td>\n",
              "      <td>2023-01-16</td>\n",
              "      <td>23</td>\n",
              "    </tr>\n",
              "    <tr>\n",
              "      <th>2670</th>\n",
              "      <td>17670</td>\n",
              "      <td>홍성군</td>\n",
              "      <td>2023-01-17</td>\n",
              "      <td>24</td>\n",
              "    </tr>\n",
              "    <tr>\n",
              "      <th>2671</th>\n",
              "      <td>17671</td>\n",
              "      <td>홍성군</td>\n",
              "      <td>2023-01-18</td>\n",
              "      <td>30</td>\n",
              "    </tr>\n",
              "  </tbody>\n",
              "</table>\n",
              "<p>2672 rows × 4 columns</p>\n",
              "</div>\n",
              "      <button class=\"colab-df-convert\" onclick=\"convertToInteractive('df-5696e2ea-8b2f-4e01-948b-275a30a95649')\"\n",
              "              title=\"Convert this dataframe to an interactive table.\"\n",
              "              style=\"display:none;\">\n",
              "        \n",
              "  <svg xmlns=\"http://www.w3.org/2000/svg\" height=\"24px\"viewBox=\"0 0 24 24\"\n",
              "       width=\"24px\">\n",
              "    <path d=\"M0 0h24v24H0V0z\" fill=\"none\"/>\n",
              "    <path d=\"M18.56 5.44l.94 2.06.94-2.06 2.06-.94-2.06-.94-.94-2.06-.94 2.06-2.06.94zm-11 1L8.5 8.5l.94-2.06 2.06-.94-2.06-.94L8.5 2.5l-.94 2.06-2.06.94zm10 10l.94 2.06.94-2.06 2.06-.94-2.06-.94-.94-2.06-.94 2.06-2.06.94z\"/><path d=\"M17.41 7.96l-1.37-1.37c-.4-.4-.92-.59-1.43-.59-.52 0-1.04.2-1.43.59L10.3 9.45l-7.72 7.72c-.78.78-.78 2.05 0 2.83L4 21.41c.39.39.9.59 1.41.59.51 0 1.02-.2 1.41-.59l7.78-7.78 2.81-2.81c.8-.78.8-2.07 0-2.86zM5.41 20L4 18.59l7.72-7.72 1.47 1.35L5.41 20z\"/>\n",
              "  </svg>\n",
              "      </button>\n",
              "      \n",
              "  <style>\n",
              "    .colab-df-container {\n",
              "      display:flex;\n",
              "      flex-wrap:wrap;\n",
              "      gap: 12px;\n",
              "    }\n",
              "\n",
              "    .colab-df-convert {\n",
              "      background-color: #E8F0FE;\n",
              "      border: none;\n",
              "      border-radius: 50%;\n",
              "      cursor: pointer;\n",
              "      display: none;\n",
              "      fill: #1967D2;\n",
              "      height: 32px;\n",
              "      padding: 0 0 0 0;\n",
              "      width: 32px;\n",
              "    }\n",
              "\n",
              "    .colab-df-convert:hover {\n",
              "      background-color: #E2EBFA;\n",
              "      box-shadow: 0px 1px 2px rgba(60, 64, 67, 0.3), 0px 1px 3px 1px rgba(60, 64, 67, 0.15);\n",
              "      fill: #174EA6;\n",
              "    }\n",
              "\n",
              "    [theme=dark] .colab-df-convert {\n",
              "      background-color: #3B4455;\n",
              "      fill: #D2E3FC;\n",
              "    }\n",
              "\n",
              "    [theme=dark] .colab-df-convert:hover {\n",
              "      background-color: #434B5C;\n",
              "      box-shadow: 0px 1px 3px 1px rgba(0, 0, 0, 0.15);\n",
              "      filter: drop-shadow(0px 1px 2px rgba(0, 0, 0, 0.3));\n",
              "      fill: #FFFFFF;\n",
              "    }\n",
              "  </style>\n",
              "\n",
              "      <script>\n",
              "        const buttonEl =\n",
              "          document.querySelector('#df-5696e2ea-8b2f-4e01-948b-275a30a95649 button.colab-df-convert');\n",
              "        buttonEl.style.display =\n",
              "          google.colab.kernel.accessAllowed ? 'block' : 'none';\n",
              "\n",
              "        async function convertToInteractive(key) {\n",
              "          const element = document.querySelector('#df-5696e2ea-8b2f-4e01-948b-275a30a95649');\n",
              "          const dataTable =\n",
              "            await google.colab.kernel.invokeFunction('convertToInteractive',\n",
              "                                                     [key], {});\n",
              "          if (!dataTable) return;\n",
              "\n",
              "          const docLinkHtml = 'Like what you see? Visit the ' +\n",
              "            '<a target=\"_blank\" href=https://colab.research.google.com/notebooks/data_table.ipynb>data table notebook</a>'\n",
              "            + ' to learn more about interactive tables.';\n",
              "          element.innerHTML = '';\n",
              "          dataTable['output_type'] = 'display_data';\n",
              "          await google.colab.output.renderOutput(dataTable, element);\n",
              "          const docLink = document.createElement('div');\n",
              "          docLink.innerHTML = docLinkHtml;\n",
              "          element.appendChild(docLink);\n",
              "        }\n",
              "      </script>\n",
              "    </div>\n",
              "  </div>\n",
              "  "
            ]
          },
          "metadata": {},
          "execution_count": 97
        }
      ]
    },
    {
      "cell_type": "code",
      "source": [
        "plt.figure(figsize = (30,10))\n",
        "sns.lineplot(x=val.index,y='일별범죄횟수',data = val)\n",
        "sns.lineplot(x = prediction.index, y='pred',data = prediction,color='red')"
      ],
      "metadata": {
        "colab": {
          "base_uri": "https://localhost:8080/",
          "height": 619
        },
        "id": "zDV9LheqzADi",
        "outputId": "69cfdfcc-14fd-4430-f9ea-b5af6525d7b9"
      },
      "execution_count": null,
      "outputs": [
        {
          "output_type": "execute_result",
          "data": {
            "text/plain": [
              "<matplotlib.axes._subplots.AxesSubplot at 0x7faef913f400>"
            ]
          },
          "metadata": {},
          "execution_count": 98
        },
        {
          "output_type": "display_data",
          "data": {
            "text/plain": [
              "<Figure size 2160x720 with 1 Axes>"
            ],
            "image/png": "[encoded data removed]"
          },
          "metadata": {
            "needs_background": "light"
          }
        }
      ]
    }
  ]
}